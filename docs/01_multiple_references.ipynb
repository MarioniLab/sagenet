{
  "cells": [
    {
      "cell_type": "markdown",
      "source": [
        "# Multiple references\n",
        "\n",
        "In this notebook we show installation and basic usage of **SageNet**. "
      ],
      "metadata": {
        "id": "B8TiAQi7hwXH"
      }
    },
    {
      "cell_type": "code",
      "execution_count": null,
      "metadata": {
        "id": "5hXws4b_EPoR"
      },
      "outputs": [],
      "source": [
        "!pip install -q torch-scatter -f https://data.pyg.org/whl/torch-1.10.0+cu111.html \n",
        "!pip install -q torch-sparse -f https://data.pyg.org/whl/torch-1.10.0+cu111.html \n",
        "!pip install -q git+https://github.com/pyg-team/pytorch_geometric.git "
      ]
    },
    {
      "cell_type": "code",
      "execution_count": null,
      "metadata": {
        "id": "i8t1adiyJ51v"
      },
      "outputs": [],
      "source": [
        "!pwd"
      ]
    },
    {
      "cell_type": "code",
      "execution_count": null,
      "metadata": {
        "colab": {
          "base_uri": "https://localhost:8080/"
        },
        "id": "Qgc-2ZeGEQIo",
        "outputId": "de2de8e9-a1f9-4d1f-c807-3e659586042f"
      },
      "outputs": [
        {
          "name": "stdout",
          "output_type": "stream",
          "text": [
            "fatal: destination path 'sagenet' already exists and is not an empty directory.\n",
            "/content/sagenet/sagenet\n",
            "\u001b[31mERROR: Directory '.' is not installable. Neither 'setup.py' nor 'pyproject.toml' found.\u001b[0m\n"
          ]
        }
      ],
      "source": [
        "!git clone https://github.com/MarioniLab/sagenet\n",
        "%cd sagenet\n",
        "!pip install ."
      ]
    },
    {
      "cell_type": "code",
      "execution_count": null,
      "metadata": {
        "id": "w-znoEjrERTp"
      },
      "outputs": [],
      "source": [
        "import sagenet as sg\n",
        "import scanpy as sc\n",
        "import squidpy as sq\n",
        "import anndata as ad\n",
        "import random\n",
        "random.seed(10)"
      ]
    },
    {
      "cell_type": "code",
      "execution_count": null,
      "metadata": {
        "id": "stz_3hVlGuaF"
      },
      "outputs": [],
      "source": [
        "celltype_colours = {\n",
        "  \"Epiblast\" : \"#635547\",\n",
        "  \"Primitive Streak\" : \"#DABE99\",\n",
        "  \"Caudal epiblast\" : \"#9e6762\",\n",
        "  \"PGC\" : \"#FACB12\",\n",
        "  \"Anterior Primitive Streak\" : \"#c19f70\",\n",
        "  \"Notochord\" : \"#0F4A9C\",\n",
        "  \"Def. endoderm\" : \"#F397C0\",\n",
        "  \"Definitive endoderm\" : \"#F397C0\",\n",
        "  \"Gut\" : \"#EF5A9D\",\n",
        "  \"Gut tube\" : \"#EF5A9D\",\n",
        "  \"Nascent mesoderm\" : \"#C594BF\",\n",
        "  \"Mixed mesoderm\" : \"#DFCDE4\",\n",
        "  \"Intermediate mesoderm\" : \"#139992\",\n",
        "  \"Caudal Mesoderm\" : \"#3F84AA\",\n",
        "  \"Paraxial mesoderm\" : \"#8DB5CE\",\n",
        "  \"Somitic mesoderm\" : \"#005579\",\n",
        "  \"Pharyngeal mesoderm\" : \"#C9EBFB\",\n",
        "  \"Splanchnic mesoderm\" : \"#C9EBFB\",\n",
        "  \"Cardiomyocytes\" : \"#B51D8D\",\n",
        "  \"Allantois\" : \"#532C8A\",\n",
        "  \"ExE mesoderm\" : \"#8870ad\",\n",
        "  \"Lateral plate mesoderm\" : \"#8870ad\",\n",
        "  \"Mesenchyme\" : \"#cc7818\",\n",
        "  \"Mixed mesenchymal mesoderm\" : \"#cc7818\",\n",
        "  \"Haematoendothelial progenitors\" : \"#FBBE92\",\n",
        "  \"Endothelium\" : \"#ff891c\",\n",
        "  \"Blood progenitors 1\" : \"#f9decf\",\n",
        "  \"Blood progenitors 2\" : \"#c9a997\",\n",
        "  \"Erythroid1\" : \"#C72228\",\n",
        "  \"Erythroid2\" : \"#f79083\",\n",
        "  \"Erythroid3\" : \"#EF4E22\",\n",
        "  \"Erythroid\" : \"#f79083\",\n",
        "  \"Blood progenitors\" : \"#f9decf\",\n",
        "  \"NMP\" : \"#8EC792\",\n",
        "  \"Rostral neurectoderm\" : \"#65A83E\",\n",
        "  \"Caudal neurectoderm\" : \"#354E23\",\n",
        "  \"Neural crest\" : \"#C3C388\",\n",
        "  \"Forebrain/Midbrain/Hindbrain\" : \"#647a4f\",\n",
        "  \"Spinal cord\" : \"#CDE088\",\n",
        "  \"Surface ectoderm\" : \"#f7f79e\",\n",
        "  \"Visceral endoderm\" : \"#F6BFCB\",\n",
        "  \"ExE endoderm\" : \"#7F6874\",\n",
        "  \"ExE ectoderm\" : \"#989898\",\n",
        "  \"Parietal endoderm\" : \"#1A1A1A\",\n",
        "  \"Unknown\" : \"#FFFFFF\",\n",
        "  \"Low quality\" : \"#e6e6e6\",\n",
        "  # somitic and paraxial types\n",
        "  # colour from T chimera paper Guibentif et al Developmental Cell 2021\n",
        "  \"Cranial mesoderm\" : \"#77441B\",\n",
        "  \"Anterior somitic tissues\" : \"#F90026\",\n",
        "  \"Sclerotome\" : \"#A10037\",\n",
        "  \"Dermomyotome\" : \"#DA5921\",\n",
        "  \"Posterior somitic tissues\" : \"#E1C239\",\n",
        "  \"Presomitic mesoderm\" : \"#9DD84A\"\n",
        "}"
      ]
    },
    {
      "cell_type": "code",
      "execution_count": null,
      "metadata": {
        "id": "yUWR8-aPESU0"
      },
      "outputs": [],
      "source": [
        "from copy import copy\n",
        "adata_r1 = sg.datasets.seqFISH1()\n",
        "adata_r2 = sg.datasets.seqFISH2()\n",
        "adata_r3 = sg.datasets.seqFISH3()\n",
        "adata_q1 = copy(adata_r1)\n",
        "adata_q2 = copy(adata_r2)\n",
        "adata_q3 = copy(adata_r3)\n",
        "adata_q4 = sg.datasets.MGA()\n",
        "sc.pp.subsample(adata_q1, fraction=0.25)\n",
        "sc.pp.subsample(adata_q2, fraction=0.25)\n",
        "sc.pp.subsample(adata_q3, fraction=0.25)\n",
        "sc.pp.subsample(adata_q4, fraction=0.25)\n",
        "adata_q = ad.concat([adata_q1, adata_q2, adata_q3, adata_q4], join=\"inner\")\n",
        "del adata_q1 \n",
        "del adata_q2 \n",
        "del adata_q3 \n",
        "del adata_q4"
      ]
    },
    {
      "cell_type": "code",
      "execution_count": null,
      "metadata": {
        "id": "aU5MmeY8GrYE"
      },
      "outputs": [],
      "source": [
        "from sagenet.utils import glasso\n",
        "import numpy as np\n",
        "glasso(adata_r1, [0.5, 0.75, 1])\n",
        "adata_r1.obsm['spatial'] = np.array(adata_r1.obs[['x','y']])\n",
        "sq.gr.spatial_neighbors(adata_r1, coord_type=\"generic\")\n",
        "sc.tl.leiden(adata_r1, resolution=.01, random_state=0, key_added='leiden_0.01', adjacency=adata_r1.obsp[\"spatial_connectivities\"])\n",
        "sc.tl.leiden(adata_r1, resolution=.05, random_state=0, key_added='leiden_0.05', adjacency=adata_r1.obsp[\"spatial_connectivities\"])\n",
        "sc.tl.leiden(adata_r1, resolution=.1, random_state=0, key_added='leiden_0.1', adjacency=adata_r1.obsp[\"spatial_connectivities\"])\n",
        "sc.tl.leiden(adata_r1, resolution=.5, random_state=0, key_added='leiden_0.5', adjacency=adata_r1.obsp[\"spatial_connectivities\"])\n",
        "sc.tl.leiden(adata_r1, resolution=1, random_state=0, key_added='leiden_1', adjacency=adata_r1.obsp[\"spatial_connectivities\"])\n",
        "glasso(adata_r2, [0.5, 0.75, 1])\n",
        "adata_r2.obsm['spatial'] = np.array(adata_r2.obs[['x','y']])\n",
        "sq.gr.spatial_neighbors(adata_r2, coord_type=\"generic\")\n",
        "sc.tl.leiden(adata_r2, resolution=.01, random_state=0, key_added='leiden_0.01', adjacency=adata_r2.obsp[\"spatial_connectivities\"])\n",
        "sc.tl.leiden(adata_r2, resolution=.05, random_state=0, key_added='leiden_0.05', adjacency=adata_r2.obsp[\"spatial_connectivities\"])\n",
        "sc.tl.leiden(adata_r2, resolution=.1, random_state=0, key_added='leiden_0.1', adjacency=adata_r2.obsp[\"spatial_connectivities\"])\n",
        "sc.tl.leiden(adata_r2, resolution=.5, random_state=0, key_added='leiden_0.5', adjacency=adata_r2.obsp[\"spatial_connectivities\"])\n",
        "sc.tl.leiden(adata_r2, resolution=1, random_state=0, key_added='leiden_1', adjacency=adata_r2.obsp[\"spatial_connectivities\"])\n",
        "glasso(adata_r3, [0.5, 0.75, 1])\n",
        "adata_r3.obsm['spatial'] = np.array(adata_r3.obs[['x','y']])\n",
        "sq.gr.spatial_neighbors(adata_r3, coord_type=\"generic\")\n",
        "sc.tl.leiden(adata_r3, resolution=.01, random_state=0, key_added='leiden_0.01', adjacency=adata_r3.obsp[\"spatial_connectivities\"])\n",
        "sc.tl.leiden(adata_r3, resolution=.05, random_state=0, key_added='leiden_0.05', adjacency=adata_r3.obsp[\"spatial_connectivities\"])\n",
        "sc.tl.leiden(adata_r3, resolution=.1, random_state=0, key_added='leiden_0.1', adjacency=adata_r3.obsp[\"spatial_connectivities\"])\n",
        "sc.tl.leiden(adata_r3, resolution=.5, random_state=0, key_added='leiden_0.5', adjacency=adata_r3.obsp[\"spatial_connectivities\"])\n",
        "sc.tl.leiden(adata_r3, resolution=1, random_state=0, key_added='leiden_1', adjacency=adata_r3.obsp[\"spatial_connectivities\"])"
      ]
    },
    {
      "cell_type": "code",
      "execution_count": null,
      "metadata": {
        "colab": {
          "base_uri": "https://localhost:8080/"
        },
        "id": "r_St4TwlIcAW",
        "outputId": "e289e9c1-a225-419b-842d-6bfc5b4bf3d3"
      },
      "outputs": [
        {
          "name": "stdout",
          "output_type": "stream",
          "text": [
            "cpu\n"
          ]
        }
      ],
      "source": [
        "import torch\n",
        "if torch.cuda.is_available():  \n",
        "  dev = \"cuda:0\" \n",
        "else:  \n",
        "  dev = \"cpu\"  \n",
        "device = torch.device(dev)\n",
        "print(device)"
      ]
    },
    {
      "cell_type": "code",
      "execution_count": null,
      "metadata": {
        "id": "WRcnUb8wIduW"
      },
      "outputs": [],
      "source": [
        "sg_obj = sg.sage.sage(device=device)"
      ]
    },
    {
      "cell_type": "code",
      "execution_count": null,
      "metadata": {
        "colab": {
          "background_save": true,
          "base_uri": "https://localhost:8080/"
        },
        "id": "BxX5nvMpISVZ",
        "outputId": "cd6f96d8-ea7c-4bbe-e48d-4a08c4d191e5"
      },
      "outputs": [
        {
          "name": "stderr",
          "output_type": "stream",
          "text": [
            "/usr/local/lib/python3.7/dist-packages/torch_geometric/deprecation.py:13: UserWarning: 'data.DataLoader' is deprecated, use 'loader.DataLoader' instead\n",
            "  warnings.warn(out)\n",
            "/usr/local/lib/python3.7/dist-packages/torch_geometric/deprecation.py:13: UserWarning: 'data.DataLoader' is deprecated, use 'loader.DataLoader' instead\n",
            "  warnings.warn(out)\n",
            "/usr/local/lib/python3.7/dist-packages/torch_geometric/deprecation.py:13: UserWarning: 'data.DataLoader' is deprecated, use 'loader.DataLoader' instead\n",
            "  warnings.warn(out)\n",
            "/usr/local/lib/python3.7/dist-packages/torch_geometric/deprecation.py:13: UserWarning: 'data.DataLoader' is deprecated, use 'loader.DataLoader' instead\n",
            "  warnings.warn(out)\n",
            "/usr/local/lib/python3.7/dist-packages/sklearn/metrics/_classification.py:1308: UndefinedMetricWarning: Precision is ill-defined and being set to 0.0 in labels with no predicted samples. Use `zero_division` parameter to control this behavior.\n",
            "  _warn_prf(average, modifier, msg_start, len(result))\n",
            "/usr/local/lib/python3.7/dist-packages/sklearn/metrics/_classification.py:1308: UndefinedMetricWarning: Precision is ill-defined and being set to 0.0 in labels with no predicted samples. Use `zero_division` parameter to control this behavior.\n",
            "  _warn_prf(average, modifier, msg_start, len(result))\n",
            "/usr/local/lib/python3.7/dist-packages/torch_geometric/deprecation.py:13: UserWarning: 'data.DataLoader' is deprecated, use 'loader.DataLoader' instead\n",
            "  warnings.warn(out)\n",
            "/usr/local/lib/python3.7/dist-packages/sklearn/metrics/_classification.py:1308: UndefinedMetricWarning: Precision is ill-defined and being set to 0.0 in labels with no predicted samples. Use `zero_division` parameter to control this behavior.\n",
            "  _warn_prf(average, modifier, msg_start, len(result))\n",
            "/usr/local/lib/python3.7/dist-packages/sklearn/metrics/_classification.py:1308: UndefinedMetricWarning: Precision is ill-defined and being set to 0.0 in labels with no predicted samples. Use `zero_division` parameter to control this behavior.\n",
            "  _warn_prf(average, modifier, msg_start, len(result))\n",
            "/usr/local/lib/python3.7/dist-packages/sklearn/metrics/_classification.py:1308: UndefinedMetricWarning: Precision is ill-defined and being set to 0.0 in labels with no predicted samples. Use `zero_division` parameter to control this behavior.\n",
            "  _warn_prf(average, modifier, msg_start, len(result))\n"
          ]
        }
      ],
      "source": [
        "sg_obj.add_ref(adata_r1, comm_columns=['leiden_0.01', 'leiden_0.05', 'leiden_0.1', 'leiden_0.5', 'leiden_1'], tag='seqFISH_ref1', epochs=15, verbose = False)"
      ]
    },
    {
      "cell_type": "code",
      "execution_count": null,
      "metadata": {
        "colab": {
          "background_save": true
        },
        "id": "YZ4lN_0kIWwO",
        "outputId": "499b9ceb-8c69-4200-9468-985587f43f32"
      },
      "outputs": [
        {
          "name": "stderr",
          "output_type": "stream",
          "text": [
            "/usr/local/lib/python3.7/dist-packages/torch_geometric/deprecation.py:13: UserWarning: 'data.DataLoader' is deprecated, use 'loader.DataLoader' instead\n",
            "  warnings.warn(out)\n",
            "/usr/local/lib/python3.7/dist-packages/torch_geometric/deprecation.py:13: UserWarning: 'data.DataLoader' is deprecated, use 'loader.DataLoader' instead\n",
            "  warnings.warn(out)\n",
            "/usr/local/lib/python3.7/dist-packages/torch_geometric/deprecation.py:13: UserWarning: 'data.DataLoader' is deprecated, use 'loader.DataLoader' instead\n",
            "  warnings.warn(out)\n",
            "/usr/local/lib/python3.7/dist-packages/torch_geometric/deprecation.py:13: UserWarning: 'data.DataLoader' is deprecated, use 'loader.DataLoader' instead\n",
            "  warnings.warn(out)\n",
            "/usr/local/lib/python3.7/dist-packages/sklearn/metrics/_classification.py:1308: UndefinedMetricWarning: Precision is ill-defined and being set to 0.0 in labels with no predicted samples. Use `zero_division` parameter to control this behavior.\n",
            "  _warn_prf(average, modifier, msg_start, len(result))\n",
            "/usr/local/lib/python3.7/dist-packages/torch_geometric/deprecation.py:13: UserWarning: 'data.DataLoader' is deprecated, use 'loader.DataLoader' instead\n",
            "  warnings.warn(out)\n",
            "/usr/local/lib/python3.7/dist-packages/sklearn/metrics/_classification.py:1308: UndefinedMetricWarning: Precision is ill-defined and being set to 0.0 in labels with no predicted samples. Use `zero_division` parameter to control this behavior.\n",
            "  _warn_prf(average, modifier, msg_start, len(result))\n",
            "/usr/local/lib/python3.7/dist-packages/sklearn/metrics/_classification.py:1308: UndefinedMetricWarning: Precision is ill-defined and being set to 0.0 in labels with no predicted samples. Use `zero_division` parameter to control this behavior.\n",
            "  _warn_prf(average, modifier, msg_start, len(result))\n",
            "/usr/local/lib/python3.7/dist-packages/sklearn/metrics/_classification.py:1308: UndefinedMetricWarning: Precision is ill-defined and being set to 0.0 in labels with no predicted samples. Use `zero_division` parameter to control this behavior.\n",
            "  _warn_prf(average, modifier, msg_start, len(result))\n"
          ]
        }
      ],
      "source": [
        "sg_obj.add_ref(adata_r2, comm_columns=['leiden_0.01', 'leiden_0.05', 'leiden_0.1', 'leiden_0.5', 'leiden_1'], tag='seqFISH_ref2', epochs=15, verbose = False)"
      ]
    },
    {
      "cell_type": "code",
      "execution_count": null,
      "metadata": {
        "id": "sA9dF1vZIXLV"
      },
      "outputs": [],
      "source": [
        "sg_obj.add_ref(adata_r3, comm_columns=['leiden_0.01', 'leiden_0.05', 'leiden_0.1', 'leiden_0.5', 'leiden_1'], tag='seqFISH_ref3', epochs=15, verbose = False)"
      ]
    },
    {
      "cell_type": "code",
      "execution_count": null,
      "metadata": {
        "id": "qQjIRmPnI4F2"
      },
      "outputs": [],
      "source": [
        "ind = np.argsort(-(adata_r.var['seqFISH_ref_entropy']+ adata_r.var['seqFISH_ref2_entropy'] + adata_r.var['seqFISH_ref3_entropy']))[0:12]\n",
        "with rc_context({'figure.figsize': (4, 4)}):\n",
        "  sc.pl.spatial(adata_r, color=list(adata_r.var_names[ind]), ncols=4, spot_size=0.03, legend_loc=None)"
      ]
    },
    {
      "cell_type": "code",
      "execution_count": null,
      "metadata": {
        "id": "qOWVKZw9JDPu"
      },
      "outputs": [],
      "source": [
        "!mkdir models\n",
        "!mkdir models/seqFISH_ref\n",
        "sg_obj.save_model_as_folder('models/seqFISH_multiple_ref')"
      ]
    },
    {
      "cell_type": "code",
      "execution_count": null,
      "metadata": {
        "id": "s5rn2FxrJUNN"
      },
      "outputs": [],
      "source": [
        "sg_obj.map_query(adata_q)"
      ]
    },
    {
      "cell_type": "code",
      "execution_count": null,
      "metadata": {
        "id": "WN1vAbpuJW74"
      },
      "outputs": [],
      "source": [
        "import anndata\n",
        "dist_adata = anndata.AnnData(adata_q.obsm['dist_map'], obs = adata_q.obs)\n",
        "knn_indices, knn_dists, forest = sc.neighbors.compute_neighbors_umap(dist_adata.X, n_neighbors=50, metric='precomputed')\n",
        "dist_adata.obsp['distances'], dist_adata.obsp['connectivities'] = sc.neighbors._compute_connectivities_umap(\n",
        "    knn_indices,\n",
        "    knn_dists,\n",
        "    dist_adata.shape[0],\n",
        "    50, # change to neighbors you plan to use\n",
        ")\n",
        "sc.pp.neighbors(dist_adata, metric='precomputed', use_rep='X')\n",
        "sc.tl.umap(dist_adata)\n",
        "sc.pl.umap(dist_adata, color='cell_type', palette=celltype_colours, save='eli.pdf')"
      ]
    }
  ],
  "metadata": {
    "colab": {
      "name": "01_multiple_references.ipynb",
      "provenance": [],
      "collapsed_sections": []
    },
    "kernelspec": {
      "display_name": "Python 3",
      "name": "python3"
    },
    "language_info": {
      "name": "python"
    }
  },
  "nbformat": 4,
  "nbformat_minor": 0
}